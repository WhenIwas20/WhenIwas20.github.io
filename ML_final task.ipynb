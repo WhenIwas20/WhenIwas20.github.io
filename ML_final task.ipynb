{
 "cells": [
  {
   "cell_type": "code",
   "execution_count": 8,
   "id": "07927032",
   "metadata": {},
   "outputs": [
    {
     "data": {
      "text/html": [
       "<style>.container {width:90% !important;}</style>"
      ],
      "text/plain": [
       "<IPython.core.display.HTML object>"
      ]
     },
     "metadata": {},
     "output_type": "display_data"
    },
    {
     "data": {
      "text/plain": [
       "(5515, 23)"
      ]
     },
     "execution_count": 8,
     "metadata": {},
     "output_type": "execute_result"
    }
   ],
   "source": [
    "#작업에 필요한 라이브러리 불러오기\n",
    "from IPython.display import display, HTML\n",
    "display(HTML(\"<style>.container {width:90% !important;}</style>\"))\n",
    "\n",
    "import numpy as np\n",
    "import pandas as pd\n",
    "import seaborn as sns\n",
    "from sklearn.metrics import classification_report\n",
    "from sklearn.model_selection import train_test_split\n",
    "from sklearn.ensemble import RandomForestClassifier\n",
    "import matplotlib.pyplot as plt\n",
    "%matplotlib inline\n",
    "\n",
    "import warnings\n",
    "warnings.filterwarnings('ignore')\n",
    "\n",
    "df = pd.read_csv(\"nbadatafinal_realreal.csv\")\n",
    "df.shape"
   ]
  },
  {
   "cell_type": "code",
   "execution_count": 9,
   "id": "b7f5d135",
   "metadata": {},
   "outputs": [
    {
     "name": "stdout",
     "output_type": "stream",
     "text": [
      "<class 'pandas.core.frame.DataFrame'>\n",
      "RangeIndex: 5515 entries, 0 to 5514\n",
      "Data columns (total 23 columns):\n",
      " #   Column                  Non-Null Count  Dtype \n",
      "---  ------                  --------------  ----- \n",
      " 0   game_date_est           5515 non-null   object\n",
      " 1   game_id                 5515 non-null   int64 \n",
      " 2   team_id_home            5515 non-null   int64 \n",
      " 3   team_abbreviation_home  5515 non-null   object\n",
      " 4   team_city_name_home     5515 non-null   object\n",
      " 5   team_nickname_home      5515 non-null   object\n",
      " 6   qtr1+2+3_home           5515 non-null   int64 \n",
      " 7   qtr1+2+3_away           5515 non-null   int64 \n",
      " 8   3qtr_ptsgap             5515 non-null   int64 \n",
      " 9   pts_home                5515 non-null   int64 \n",
      " 10  pts_away                5515 non-null   int64 \n",
      " 11  wl_home                 5515 non-null   int64 \n",
      " 12  wl_away                 5515 non-null   int64 \n",
      " 13  team_id_away            5515 non-null   int64 \n",
      " 14  team_abbreviation_away  5515 non-null   object\n",
      " 15  team_city_name_away     5515 non-null   object\n",
      " 16  team_nickname_away      5515 non-null   object\n",
      " 17  pts_qtr1_home           5515 non-null   int64 \n",
      " 18  pts_qtr2_home           5515 non-null   int64 \n",
      " 19  pts_qtr3_home           5515 non-null   int64 \n",
      " 20  pts_qtr1_away           5515 non-null   int64 \n",
      " 21  pts_qtr2_away           5515 non-null   int64 \n",
      " 22  pts_qtr3_away           5515 non-null   int64 \n",
      "dtypes: int64(16), object(7)\n",
      "memory usage: 991.1+ KB\n"
     ]
    }
   ],
   "source": [
    "#연속형변수와 범주형변수 구분\n",
    "df.info()"
   ]
  },
  {
   "cell_type": "code",
   "execution_count": 10,
   "id": "ce8baa2f",
   "metadata": {},
   "outputs": [
    {
     "data": {
      "text/html": [
       "<div>\n",
       "<style scoped>\n",
       "    .dataframe tbody tr th:only-of-type {\n",
       "        vertical-align: middle;\n",
       "    }\n",
       "\n",
       "    .dataframe tbody tr th {\n",
       "        vertical-align: top;\n",
       "    }\n",
       "\n",
       "    .dataframe thead th {\n",
       "        text-align: right;\n",
       "    }\n",
       "</style>\n",
       "<table border=\"1\" class=\"dataframe\">\n",
       "  <thead>\n",
       "    <tr style=\"text-align: right;\">\n",
       "      <th></th>\n",
       "      <th>count</th>\n",
       "      <th>mean</th>\n",
       "      <th>std</th>\n",
       "      <th>min</th>\n",
       "      <th>25%</th>\n",
       "      <th>50%</th>\n",
       "      <th>75%</th>\n",
       "      <th>max</th>\n",
       "    </tr>\n",
       "  </thead>\n",
       "  <tbody>\n",
       "    <tr>\n",
       "      <th>game_id</th>\n",
       "      <td>5515.0</td>\n",
       "      <td>2.199629e+07</td>\n",
       "      <td>141849.318029</td>\n",
       "      <td>2.180000e+07</td>\n",
       "      <td>2.190017e+07</td>\n",
       "      <td>2.200052e+07</td>\n",
       "      <td>2.210085e+07</td>\n",
       "      <td>2.220102e+07</td>\n",
       "    </tr>\n",
       "    <tr>\n",
       "      <th>team_id_home</th>\n",
       "      <td>5515.0</td>\n",
       "      <td>1.610613e+09</td>\n",
       "      <td>8.651740</td>\n",
       "      <td>1.610613e+09</td>\n",
       "      <td>1.610613e+09</td>\n",
       "      <td>1.610613e+09</td>\n",
       "      <td>1.610613e+09</td>\n",
       "      <td>1.610613e+09</td>\n",
       "    </tr>\n",
       "    <tr>\n",
       "      <th>qtr1+2+3_home</th>\n",
       "      <td>5515.0</td>\n",
       "      <td>8.419529e+01</td>\n",
       "      <td>10.640945</td>\n",
       "      <td>4.100000e+01</td>\n",
       "      <td>7.700000e+01</td>\n",
       "      <td>8.400000e+01</td>\n",
       "      <td>9.100000e+01</td>\n",
       "      <td>1.270000e+02</td>\n",
       "    </tr>\n",
       "    <tr>\n",
       "      <th>qtr1+2+3_away</th>\n",
       "      <td>5515.0</td>\n",
       "      <td>8.433436e+01</td>\n",
       "      <td>10.655974</td>\n",
       "      <td>3.800000e+01</td>\n",
       "      <td>7.700000e+01</td>\n",
       "      <td>8.400000e+01</td>\n",
       "      <td>9.100000e+01</td>\n",
       "      <td>1.230000e+02</td>\n",
       "    </tr>\n",
       "    <tr>\n",
       "      <th>3qtr_ptsgap</th>\n",
       "      <td>5515.0</td>\n",
       "      <td>1.081795e+01</td>\n",
       "      <td>8.408086</td>\n",
       "      <td>0.000000e+00</td>\n",
       "      <td>4.000000e+00</td>\n",
       "      <td>9.000000e+00</td>\n",
       "      <td>1.500000e+01</td>\n",
       "      <td>5.600000e+01</td>\n",
       "    </tr>\n",
       "    <tr>\n",
       "      <th>pts_home</th>\n",
       "      <td>5515.0</td>\n",
       "      <td>1.117039e+02</td>\n",
       "      <td>12.591252</td>\n",
       "      <td>4.100000e+01</td>\n",
       "      <td>1.030000e+02</td>\n",
       "      <td>1.120000e+02</td>\n",
       "      <td>1.200000e+02</td>\n",
       "      <td>1.750000e+02</td>\n",
       "    </tr>\n",
       "    <tr>\n",
       "      <th>pts_away</th>\n",
       "      <td>5515.0</td>\n",
       "      <td>1.120892e+02</td>\n",
       "      <td>12.576701</td>\n",
       "      <td>3.800000e+01</td>\n",
       "      <td>1.040000e+02</td>\n",
       "      <td>1.120000e+02</td>\n",
       "      <td>1.200000e+02</td>\n",
       "      <td>1.760000e+02</td>\n",
       "    </tr>\n",
       "    <tr>\n",
       "      <th>wl_home</th>\n",
       "      <td>5515.0</td>\n",
       "      <td>5.655485e-01</td>\n",
       "      <td>0.495730</td>\n",
       "      <td>0.000000e+00</td>\n",
       "      <td>0.000000e+00</td>\n",
       "      <td>1.000000e+00</td>\n",
       "      <td>1.000000e+00</td>\n",
       "      <td>1.000000e+00</td>\n",
       "    </tr>\n",
       "    <tr>\n",
       "      <th>wl_away</th>\n",
       "      <td>5515.0</td>\n",
       "      <td>4.344515e-01</td>\n",
       "      <td>0.495730</td>\n",
       "      <td>0.000000e+00</td>\n",
       "      <td>0.000000e+00</td>\n",
       "      <td>0.000000e+00</td>\n",
       "      <td>1.000000e+00</td>\n",
       "      <td>1.000000e+00</td>\n",
       "    </tr>\n",
       "    <tr>\n",
       "      <th>team_id_away</th>\n",
       "      <td>5515.0</td>\n",
       "      <td>1.610613e+09</td>\n",
       "      <td>8.642790</td>\n",
       "      <td>1.610613e+09</td>\n",
       "      <td>1.610613e+09</td>\n",
       "      <td>1.610613e+09</td>\n",
       "      <td>1.610613e+09</td>\n",
       "      <td>1.610613e+09</td>\n",
       "    </tr>\n",
       "    <tr>\n",
       "      <th>pts_qtr1_home</th>\n",
       "      <td>5515.0</td>\n",
       "      <td>2.813672e+01</td>\n",
       "      <td>6.038819</td>\n",
       "      <td>8.000000e+00</td>\n",
       "      <td>2.400000e+01</td>\n",
       "      <td>2.800000e+01</td>\n",
       "      <td>3.200000e+01</td>\n",
       "      <td>5.100000e+01</td>\n",
       "    </tr>\n",
       "    <tr>\n",
       "      <th>pts_qtr2_home</th>\n",
       "      <td>5515.0</td>\n",
       "      <td>2.822430e+01</td>\n",
       "      <td>5.946496</td>\n",
       "      <td>9.000000e+00</td>\n",
       "      <td>2.400000e+01</td>\n",
       "      <td>2.800000e+01</td>\n",
       "      <td>3.200000e+01</td>\n",
       "      <td>4.900000e+01</td>\n",
       "    </tr>\n",
       "    <tr>\n",
       "      <th>pts_qtr3_home</th>\n",
       "      <td>5515.0</td>\n",
       "      <td>2.783427e+01</td>\n",
       "      <td>6.067307</td>\n",
       "      <td>0.000000e+00</td>\n",
       "      <td>2.400000e+01</td>\n",
       "      <td>2.800000e+01</td>\n",
       "      <td>3.200000e+01</td>\n",
       "      <td>5.500000e+01</td>\n",
       "    </tr>\n",
       "    <tr>\n",
       "      <th>pts_qtr1_away</th>\n",
       "      <td>5515.0</td>\n",
       "      <td>2.831895e+01</td>\n",
       "      <td>6.031684</td>\n",
       "      <td>9.000000e+00</td>\n",
       "      <td>2.400000e+01</td>\n",
       "      <td>2.800000e+01</td>\n",
       "      <td>3.200000e+01</td>\n",
       "      <td>5.100000e+01</td>\n",
       "    </tr>\n",
       "    <tr>\n",
       "      <th>pts_qtr2_away</th>\n",
       "      <td>5515.0</td>\n",
       "      <td>2.811224e+01</td>\n",
       "      <td>5.908834</td>\n",
       "      <td>9.000000e+00</td>\n",
       "      <td>2.400000e+01</td>\n",
       "      <td>2.800000e+01</td>\n",
       "      <td>3.200000e+01</td>\n",
       "      <td>5.000000e+01</td>\n",
       "    </tr>\n",
       "    <tr>\n",
       "      <th>pts_qtr3_away</th>\n",
       "      <td>5515.0</td>\n",
       "      <td>2.790317e+01</td>\n",
       "      <td>5.991263</td>\n",
       "      <td>0.000000e+00</td>\n",
       "      <td>2.400000e+01</td>\n",
       "      <td>2.800000e+01</td>\n",
       "      <td>3.200000e+01</td>\n",
       "      <td>4.900000e+01</td>\n",
       "    </tr>\n",
       "  </tbody>\n",
       "</table>\n",
       "</div>"
      ],
      "text/plain": [
       "                count          mean            std           min  \\\n",
       "game_id        5515.0  2.199629e+07  141849.318029  2.180000e+07   \n",
       "team_id_home   5515.0  1.610613e+09       8.651740  1.610613e+09   \n",
       "qtr1+2+3_home  5515.0  8.419529e+01      10.640945  4.100000e+01   \n",
       "qtr1+2+3_away  5515.0  8.433436e+01      10.655974  3.800000e+01   \n",
       "3qtr_ptsgap    5515.0  1.081795e+01       8.408086  0.000000e+00   \n",
       "pts_home       5515.0  1.117039e+02      12.591252  4.100000e+01   \n",
       "pts_away       5515.0  1.120892e+02      12.576701  3.800000e+01   \n",
       "wl_home        5515.0  5.655485e-01       0.495730  0.000000e+00   \n",
       "wl_away        5515.0  4.344515e-01       0.495730  0.000000e+00   \n",
       "team_id_away   5515.0  1.610613e+09       8.642790  1.610613e+09   \n",
       "pts_qtr1_home  5515.0  2.813672e+01       6.038819  8.000000e+00   \n",
       "pts_qtr2_home  5515.0  2.822430e+01       5.946496  9.000000e+00   \n",
       "pts_qtr3_home  5515.0  2.783427e+01       6.067307  0.000000e+00   \n",
       "pts_qtr1_away  5515.0  2.831895e+01       6.031684  9.000000e+00   \n",
       "pts_qtr2_away  5515.0  2.811224e+01       5.908834  9.000000e+00   \n",
       "pts_qtr3_away  5515.0  2.790317e+01       5.991263  0.000000e+00   \n",
       "\n",
       "                        25%           50%           75%           max  \n",
       "game_id        2.190017e+07  2.200052e+07  2.210085e+07  2.220102e+07  \n",
       "team_id_home   1.610613e+09  1.610613e+09  1.610613e+09  1.610613e+09  \n",
       "qtr1+2+3_home  7.700000e+01  8.400000e+01  9.100000e+01  1.270000e+02  \n",
       "qtr1+2+3_away  7.700000e+01  8.400000e+01  9.100000e+01  1.230000e+02  \n",
       "3qtr_ptsgap    4.000000e+00  9.000000e+00  1.500000e+01  5.600000e+01  \n",
       "pts_home       1.030000e+02  1.120000e+02  1.200000e+02  1.750000e+02  \n",
       "pts_away       1.040000e+02  1.120000e+02  1.200000e+02  1.760000e+02  \n",
       "wl_home        0.000000e+00  1.000000e+00  1.000000e+00  1.000000e+00  \n",
       "wl_away        0.000000e+00  0.000000e+00  1.000000e+00  1.000000e+00  \n",
       "team_id_away   1.610613e+09  1.610613e+09  1.610613e+09  1.610613e+09  \n",
       "pts_qtr1_home  2.400000e+01  2.800000e+01  3.200000e+01  5.100000e+01  \n",
       "pts_qtr2_home  2.400000e+01  2.800000e+01  3.200000e+01  4.900000e+01  \n",
       "pts_qtr3_home  2.400000e+01  2.800000e+01  3.200000e+01  5.500000e+01  \n",
       "pts_qtr1_away  2.400000e+01  2.800000e+01  3.200000e+01  5.100000e+01  \n",
       "pts_qtr2_away  2.400000e+01  2.800000e+01  3.200000e+01  5.000000e+01  \n",
       "pts_qtr3_away  2.400000e+01  2.800000e+01  3.200000e+01  4.900000e+01  "
      ]
     },
     "execution_count": 10,
     "metadata": {},
     "output_type": "execute_result"
    }
   ],
   "source": [
    "#연속형변수 16개\n",
    "df.describe().T"
   ]
  },
  {
   "cell_type": "code",
   "execution_count": 11,
   "id": "4f7d8941",
   "metadata": {},
   "outputs": [
    {
     "data": {
      "text/html": [
       "<div>\n",
       "<style scoped>\n",
       "    .dataframe tbody tr th:only-of-type {\n",
       "        vertical-align: middle;\n",
       "    }\n",
       "\n",
       "    .dataframe tbody tr th {\n",
       "        vertical-align: top;\n",
       "    }\n",
       "\n",
       "    .dataframe thead th {\n",
       "        text-align: right;\n",
       "    }\n",
       "</style>\n",
       "<table border=\"1\" class=\"dataframe\">\n",
       "  <thead>\n",
       "    <tr style=\"text-align: right;\">\n",
       "      <th></th>\n",
       "      <th>game_date_est</th>\n",
       "      <th>team_abbreviation_home</th>\n",
       "      <th>team_city_name_home</th>\n",
       "      <th>team_nickname_home</th>\n",
       "      <th>team_abbreviation_away</th>\n",
       "      <th>team_city_name_away</th>\n",
       "      <th>team_nickname_away</th>\n",
       "    </tr>\n",
       "  </thead>\n",
       "  <tbody>\n",
       "    <tr>\n",
       "      <th>0</th>\n",
       "      <td>2018-10-16 0:00</td>\n",
       "      <td>BOS</td>\n",
       "      <td>Boston</td>\n",
       "      <td>Celtics</td>\n",
       "      <td>PHI</td>\n",
       "      <td>Philadelphia</td>\n",
       "      <td>76ers</td>\n",
       "    </tr>\n",
       "    <tr>\n",
       "      <th>1</th>\n",
       "      <td>2018-10-16 0:00</td>\n",
       "      <td>GSW</td>\n",
       "      <td>Golden State</td>\n",
       "      <td>Warriors</td>\n",
       "      <td>OKC</td>\n",
       "      <td>Oklahoma City</td>\n",
       "      <td>Thunder</td>\n",
       "    </tr>\n",
       "    <tr>\n",
       "      <th>2</th>\n",
       "      <td>2018-10-17 0:00</td>\n",
       "      <td>SAS</td>\n",
       "      <td>San Antonio</td>\n",
       "      <td>Spurs</td>\n",
       "      <td>MIN</td>\n",
       "      <td>Minnesota</td>\n",
       "      <td>Timberwolves</td>\n",
       "    </tr>\n",
       "    <tr>\n",
       "      <th>3</th>\n",
       "      <td>2018-10-17 0:00</td>\n",
       "      <td>MEM</td>\n",
       "      <td>Memphis</td>\n",
       "      <td>Grizzlies</td>\n",
       "      <td>IND</td>\n",
       "      <td>Indiana</td>\n",
       "      <td>Pacers</td>\n",
       "    </tr>\n",
       "    <tr>\n",
       "      <th>4</th>\n",
       "      <td>2018-10-17 0:00</td>\n",
       "      <td>NOP</td>\n",
       "      <td>New Orleans</td>\n",
       "      <td>Pelicans</td>\n",
       "      <td>HOU</td>\n",
       "      <td>Houston</td>\n",
       "      <td>Rockets</td>\n",
       "    </tr>\n",
       "  </tbody>\n",
       "</table>\n",
       "</div>"
      ],
      "text/plain": [
       "     game_date_est team_abbreviation_home team_city_name_home  \\\n",
       "0  2018-10-16 0:00                    BOS              Boston   \n",
       "1  2018-10-16 0:00                    GSW        Golden State   \n",
       "2  2018-10-17 0:00                    SAS         San Antonio   \n",
       "3  2018-10-17 0:00                    MEM             Memphis   \n",
       "4  2018-10-17 0:00                    NOP         New Orleans   \n",
       "\n",
       "  team_nickname_home team_abbreviation_away team_city_name_away  \\\n",
       "0            Celtics                    PHI        Philadelphia   \n",
       "1           Warriors                    OKC       Oklahoma City   \n",
       "2              Spurs                    MIN           Minnesota   \n",
       "3          Grizzlies                    IND             Indiana   \n",
       "4           Pelicans                    HOU             Houston   \n",
       "\n",
       "  team_nickname_away  \n",
       "0              76ers  \n",
       "1            Thunder  \n",
       "2       Timberwolves  \n",
       "3             Pacers  \n",
       "4            Rockets  "
      ]
     },
     "execution_count": 11,
     "metadata": {},
     "output_type": "execute_result"
    }
   ],
   "source": [
    "categorical = [var for var in df.columns if df[var].dtype=='O']\n",
    "df[categorical].head()"
   ]
  },
  {
   "cell_type": "code",
   "execution_count": 12,
   "id": "ffb16084",
   "metadata": {},
   "outputs": [
    {
     "data": {
      "text/plain": [
       "game_date_est             0\n",
       "team_abbreviation_home    0\n",
       "team_city_name_home       0\n",
       "team_nickname_home        0\n",
       "team_abbreviation_away    0\n",
       "team_city_name_away       0\n",
       "team_nickname_away        0\n",
       "dtype: int64"
      ]
     },
     "execution_count": 12,
     "metadata": {},
     "output_type": "execute_result"
    }
   ],
   "source": [
    "#범주형변수 결측치 확인\n",
    "df[categorical].isnull().sum()"
   ]
  },
  {
   "cell_type": "code",
   "execution_count": 14,
   "id": "91c55092",
   "metadata": {},
   "outputs": [
    {
     "data": {
      "text/html": [
       "<div>\n",
       "<style scoped>\n",
       "    .dataframe tbody tr th:only-of-type {\n",
       "        vertical-align: middle;\n",
       "    }\n",
       "\n",
       "    .dataframe tbody tr th {\n",
       "        vertical-align: top;\n",
       "    }\n",
       "\n",
       "    .dataframe thead th {\n",
       "        text-align: right;\n",
       "    }\n",
       "</style>\n",
       "<table border=\"1\" class=\"dataframe\">\n",
       "  <thead>\n",
       "    <tr style=\"text-align: right;\">\n",
       "      <th></th>\n",
       "      <th>game_id</th>\n",
       "      <th>team_id_home</th>\n",
       "      <th>qtr1+2+3_home</th>\n",
       "      <th>qtr1+2+3_away</th>\n",
       "      <th>3qtr_ptsgap</th>\n",
       "      <th>pts_home</th>\n",
       "      <th>pts_away</th>\n",
       "      <th>wl_home</th>\n",
       "      <th>wl_away</th>\n",
       "      <th>team_id_away</th>\n",
       "      <th>pts_qtr1_home</th>\n",
       "      <th>pts_qtr2_home</th>\n",
       "      <th>pts_qtr3_home</th>\n",
       "      <th>pts_qtr1_away</th>\n",
       "      <th>pts_qtr2_away</th>\n",
       "      <th>pts_qtr3_away</th>\n",
       "    </tr>\n",
       "  </thead>\n",
       "  <tbody>\n",
       "    <tr>\n",
       "      <th>0</th>\n",
       "      <td>21800001</td>\n",
       "      <td>1610612738</td>\n",
       "      <td>77</td>\n",
       "      <td>66</td>\n",
       "      <td>11</td>\n",
       "      <td>105</td>\n",
       "      <td>87</td>\n",
       "      <td>1</td>\n",
       "      <td>0</td>\n",
       "      <td>1610612755</td>\n",
       "      <td>21</td>\n",
       "      <td>26</td>\n",
       "      <td>30</td>\n",
       "      <td>21</td>\n",
       "      <td>21</td>\n",
       "      <td>24</td>\n",
       "    </tr>\n",
       "    <tr>\n",
       "      <th>1</th>\n",
       "      <td>21800002</td>\n",
       "      <td>1610612744</td>\n",
       "      <td>83</td>\n",
       "      <td>79</td>\n",
       "      <td>4</td>\n",
       "      <td>108</td>\n",
       "      <td>100</td>\n",
       "      <td>1</td>\n",
       "      <td>0</td>\n",
       "      <td>1610612760</td>\n",
       "      <td>31</td>\n",
       "      <td>26</td>\n",
       "      <td>26</td>\n",
       "      <td>23</td>\n",
       "      <td>24</td>\n",
       "      <td>32</td>\n",
       "    </tr>\n",
       "    <tr>\n",
       "      <th>2</th>\n",
       "      <td>21800010</td>\n",
       "      <td>1610612759</td>\n",
       "      <td>81</td>\n",
       "      <td>83</td>\n",
       "      <td>2</td>\n",
       "      <td>112</td>\n",
       "      <td>108</td>\n",
       "      <td>1</td>\n",
       "      <td>0</td>\n",
       "      <td>1610612750</td>\n",
       "      <td>31</td>\n",
       "      <td>25</td>\n",
       "      <td>25</td>\n",
       "      <td>23</td>\n",
       "      <td>29</td>\n",
       "      <td>31</td>\n",
       "    </tr>\n",
       "    <tr>\n",
       "      <th>3</th>\n",
       "      <td>21800005</td>\n",
       "      <td>1610612763</td>\n",
       "      <td>58</td>\n",
       "      <td>76</td>\n",
       "      <td>18</td>\n",
       "      <td>83</td>\n",
       "      <td>111</td>\n",
       "      <td>1</td>\n",
       "      <td>0</td>\n",
       "      <td>1610612754</td>\n",
       "      <td>16</td>\n",
       "      <td>23</td>\n",
       "      <td>19</td>\n",
       "      <td>27</td>\n",
       "      <td>29</td>\n",
       "      <td>20</td>\n",
       "    </tr>\n",
       "    <tr>\n",
       "      <th>4</th>\n",
       "      <td>21800009</td>\n",
       "      <td>1610612740</td>\n",
       "      <td>101</td>\n",
       "      <td>84</td>\n",
       "      <td>17</td>\n",
       "      <td>131</td>\n",
       "      <td>112</td>\n",
       "      <td>0</td>\n",
       "      <td>1</td>\n",
       "      <td>1610612745</td>\n",
       "      <td>35</td>\n",
       "      <td>36</td>\n",
       "      <td>30</td>\n",
       "      <td>29</td>\n",
       "      <td>25</td>\n",
       "      <td>30</td>\n",
       "    </tr>\n",
       "  </tbody>\n",
       "</table>\n",
       "</div>"
      ],
      "text/plain": [
       "    game_id  team_id_home  qtr1+2+3_home  qtr1+2+3_away  3qtr_ptsgap  \\\n",
       "0  21800001    1610612738             77             66           11   \n",
       "1  21800002    1610612744             83             79            4   \n",
       "2  21800010    1610612759             81             83            2   \n",
       "3  21800005    1610612763             58             76           18   \n",
       "4  21800009    1610612740            101             84           17   \n",
       "\n",
       "   pts_home  pts_away  wl_home  wl_away  team_id_away  pts_qtr1_home  \\\n",
       "0       105        87        1        0    1610612755             21   \n",
       "1       108       100        1        0    1610612760             31   \n",
       "2       112       108        1        0    1610612750             31   \n",
       "3        83       111        1        0    1610612754             16   \n",
       "4       131       112        0        1    1610612745             35   \n",
       "\n",
       "   pts_qtr2_home  pts_qtr3_home  pts_qtr1_away  pts_qtr2_away  pts_qtr3_away  \n",
       "0             26             30             21             21             24  \n",
       "1             26             26             23             24             32  \n",
       "2             25             25             23             29             31  \n",
       "3             23             19             27             29             20  \n",
       "4             36             30             29             25             30  "
      ]
     },
     "execution_count": 14,
     "metadata": {},
     "output_type": "execute_result"
    }
   ],
   "source": [
    "numerical = [var for var in df.columns if df[var].dtype !='O']\n",
    "df[numerical].head()"
   ]
  },
  {
   "cell_type": "code",
   "execution_count": 15,
   "id": "65e92139",
   "metadata": {
    "scrolled": true
   },
   "outputs": [
    {
     "data": {
      "text/plain": [
       "game_id          0\n",
       "team_id_home     0\n",
       "qtr1+2+3_home    0\n",
       "qtr1+2+3_away    0\n",
       "3qtr_ptsgap      0\n",
       "pts_home         0\n",
       "pts_away         0\n",
       "wl_home          0\n",
       "wl_away          0\n",
       "team_id_away     0\n",
       "pts_qtr1_home    0\n",
       "pts_qtr2_home    0\n",
       "pts_qtr3_home    0\n",
       "pts_qtr1_away    0\n",
       "pts_qtr2_away    0\n",
       "pts_qtr3_away    0\n",
       "dtype: int64"
      ]
     },
     "execution_count": 15,
     "metadata": {},
     "output_type": "execute_result"
    }
   ],
   "source": [
    "#연속형변수 결측치 확인\n",
    "df[numerical].isnull().sum()"
   ]
  },
  {
   "cell_type": "code",
   "execution_count": 19,
   "id": "75d8dc8e",
   "metadata": {},
   "outputs": [],
   "source": [
    "#모두 결측치가 존재하지 않기 때문에 추가처리없이 진행\n",
    "#입력 변수(X)와 출력 변수(y)를 분리\n",
    "columns_to_drop = ['game_date_est', 'team_city_name_home', 'team_nickname_home','team_city_name_away','team_nickname_away','wl_away','team_abbreviation_home','team_abbreviation_away']\n",
    "X = df.drop(columns_to_drop, axis=1)\n",
    "y = df['wl_home']"
   ]
  },
  {
   "cell_type": "code",
   "execution_count": 21,
   "id": "05cee826",
   "metadata": {},
   "outputs": [
    {
     "data": {
      "text/html": [
       "<style>#sk-container-id-2 {color: black;background-color: white;}#sk-container-id-2 pre{padding: 0;}#sk-container-id-2 div.sk-toggleable {background-color: white;}#sk-container-id-2 label.sk-toggleable__label {cursor: pointer;display: block;width: 100%;margin-bottom: 0;padding: 0.3em;box-sizing: border-box;text-align: center;}#sk-container-id-2 label.sk-toggleable__label-arrow:before {content: \"▸\";float: left;margin-right: 0.25em;color: #696969;}#sk-container-id-2 label.sk-toggleable__label-arrow:hover:before {color: black;}#sk-container-id-2 div.sk-estimator:hover label.sk-toggleable__label-arrow:before {color: black;}#sk-container-id-2 div.sk-toggleable__content {max-height: 0;max-width: 0;overflow: hidden;text-align: left;background-color: #f0f8ff;}#sk-container-id-2 div.sk-toggleable__content pre {margin: 0.2em;color: black;border-radius: 0.25em;background-color: #f0f8ff;}#sk-container-id-2 input.sk-toggleable__control:checked~div.sk-toggleable__content {max-height: 200px;max-width: 100%;overflow: auto;}#sk-container-id-2 input.sk-toggleable__control:checked~label.sk-toggleable__label-arrow:before {content: \"▾\";}#sk-container-id-2 div.sk-estimator input.sk-toggleable__control:checked~label.sk-toggleable__label {background-color: #d4ebff;}#sk-container-id-2 div.sk-label input.sk-toggleable__control:checked~label.sk-toggleable__label {background-color: #d4ebff;}#sk-container-id-2 input.sk-hidden--visually {border: 0;clip: rect(1px 1px 1px 1px);clip: rect(1px, 1px, 1px, 1px);height: 1px;margin: -1px;overflow: hidden;padding: 0;position: absolute;width: 1px;}#sk-container-id-2 div.sk-estimator {font-family: monospace;background-color: #f0f8ff;border: 1px dotted black;border-radius: 0.25em;box-sizing: border-box;margin-bottom: 0.5em;}#sk-container-id-2 div.sk-estimator:hover {background-color: #d4ebff;}#sk-container-id-2 div.sk-parallel-item::after {content: \"\";width: 100%;border-bottom: 1px solid gray;flex-grow: 1;}#sk-container-id-2 div.sk-label:hover label.sk-toggleable__label {background-color: #d4ebff;}#sk-container-id-2 div.sk-serial::before {content: \"\";position: absolute;border-left: 1px solid gray;box-sizing: border-box;top: 0;bottom: 0;left: 50%;z-index: 0;}#sk-container-id-2 div.sk-serial {display: flex;flex-direction: column;align-items: center;background-color: white;padding-right: 0.2em;padding-left: 0.2em;position: relative;}#sk-container-id-2 div.sk-item {position: relative;z-index: 1;}#sk-container-id-2 div.sk-parallel {display: flex;align-items: stretch;justify-content: center;background-color: white;position: relative;}#sk-container-id-2 div.sk-item::before, #sk-container-id-2 div.sk-parallel-item::before {content: \"\";position: absolute;border-left: 1px solid gray;box-sizing: border-box;top: 0;bottom: 0;left: 50%;z-index: -1;}#sk-container-id-2 div.sk-parallel-item {display: flex;flex-direction: column;z-index: 1;position: relative;background-color: white;}#sk-container-id-2 div.sk-parallel-item:first-child::after {align-self: flex-end;width: 50%;}#sk-container-id-2 div.sk-parallel-item:last-child::after {align-self: flex-start;width: 50%;}#sk-container-id-2 div.sk-parallel-item:only-child::after {width: 0;}#sk-container-id-2 div.sk-dashed-wrapped {border: 1px dashed gray;margin: 0 0.4em 0.5em 0.4em;box-sizing: border-box;padding-bottom: 0.4em;background-color: white;}#sk-container-id-2 div.sk-label label {font-family: monospace;font-weight: bold;display: inline-block;line-height: 1.2em;}#sk-container-id-2 div.sk-label-container {text-align: center;}#sk-container-id-2 div.sk-container {/* jupyter's `normalize.less` sets `[hidden] { display: none; }` but bootstrap.min.css set `[hidden] { display: none !important; }` so we also need the `!important` here to be able to override the default hidden behavior on the sphinx rendered scikit-learn.org. See: https://github.com/scikit-learn/scikit-learn/issues/21755 */display: inline-block !important;position: relative;}#sk-container-id-2 div.sk-text-repr-fallback {display: none;}</style><div id=\"sk-container-id-2\" class=\"sk-top-container\"><div class=\"sk-text-repr-fallback\"><pre>RandomForestClassifier()</pre><b>In a Jupyter environment, please rerun this cell to show the HTML representation or trust the notebook. <br />On GitHub, the HTML representation is unable to render, please try loading this page with nbviewer.org.</b></div><div class=\"sk-container\" hidden><div class=\"sk-item\"><div class=\"sk-estimator sk-toggleable\"><input class=\"sk-toggleable__control sk-hidden--visually\" id=\"sk-estimator-id-2\" type=\"checkbox\" checked><label for=\"sk-estimator-id-2\" class=\"sk-toggleable__label sk-toggleable__label-arrow\">RandomForestClassifier</label><div class=\"sk-toggleable__content\"><pre>RandomForestClassifier()</pre></div></div></div></div></div>"
      ],
      "text/plain": [
       "RandomForestClassifier()"
      ]
     },
     "execution_count": 21,
     "metadata": {},
     "output_type": "execute_result"
    }
   ],
   "source": [
    "# 3쿼터까지의 점수차 데이터와 승패 데이터의 관계에 따라 가중치를 부여\n",
    "#3쿼터까지 10점차 이하인 경기에 대해 승리시 2의 가중치 패배시 1.5의 가중치\n",
    "#10점차 이상이 난 경기에 대해서는 1의 가중치 부여\n",
    "weights = []\n",
    "for val1, val2 in zip(df['3qtr_ptsgap'], df['wl_home']):\n",
    "    if val1 <= 10 and val2 == 1:\n",
    "        weights.append(2.0)\n",
    "    elif val1 <= 10 and val2 == 0:\n",
    "        weights.append(1.5)\n",
    "    else:\n",
    "        weights.append(1.0)\n",
    "\n",
    "model = RandomForestClassifier()\n",
    "model.fit(X, y, sample_weight=weights)"
   ]
  },
  {
   "cell_type": "code",
   "execution_count": 22,
   "id": "3fb5289f",
   "metadata": {},
   "outputs": [],
   "source": [
    "#Train, Test data set 나누기\n",
    "from sklearn.model_selection import train_test_split\n",
    "X_train, X_test, y_train, y_test = train_test_split(X, y, test_size = 0.2, random_state = 0)"
   ]
  },
  {
   "cell_type": "code",
   "execution_count": 23,
   "id": "5f7650d1",
   "metadata": {},
   "outputs": [
    {
     "data": {
      "text/plain": [
       "((4412, 15), (1103, 15))"
      ]
     },
     "execution_count": 23,
     "metadata": {},
     "output_type": "execute_result"
    }
   ],
   "source": [
    "# check the shape of X_train and X_test\n",
    "X_train.shape, X_test.shape"
   ]
  },
  {
   "cell_type": "code",
   "execution_count": 24,
   "id": "387b29b9",
   "metadata": {},
   "outputs": [
    {
     "name": "stdout",
     "output_type": "stream",
     "text": [
      "Model accuracy score with 10 decision-trees : 1.0000\n"
     ]
    }
   ],
   "source": [
    "#랜덤포레스트 모델 학습\n",
    "from sklearn.ensemble import RandomForestClassifier\n",
    "rfc = RandomForestClassifier(random_state=0)\n",
    "rfc.fit(X_train, y_train)\n",
    "y_pred = rfc.predict(X_test)\n",
    "##10개의 의사결정 트리를 사용하여 예측하는 모델의 정확도 점수를 계산하고, 소수점 이하 4자리까지 출력한다. accuracy_score는 올바르게 예측된 라벨의 비율을 테스트 데이터싯의 전체 샘플 수로 나눈 값이다.\n",
    "from sklearn.metrics import accuracy_score\n",
    "print('Model accuracy score with 10 decision-trees : {0:0.4f}'. format(accuracy_score(y_test, y_pred)))"
   ]
  },
  {
   "cell_type": "code",
   "execution_count": 25,
   "id": "05f1c5e5",
   "metadata": {},
   "outputs": [
    {
     "data": {
      "text/html": [
       "<style>#sk-container-id-3 {color: black;background-color: white;}#sk-container-id-3 pre{padding: 0;}#sk-container-id-3 div.sk-toggleable {background-color: white;}#sk-container-id-3 label.sk-toggleable__label {cursor: pointer;display: block;width: 100%;margin-bottom: 0;padding: 0.3em;box-sizing: border-box;text-align: center;}#sk-container-id-3 label.sk-toggleable__label-arrow:before {content: \"▸\";float: left;margin-right: 0.25em;color: #696969;}#sk-container-id-3 label.sk-toggleable__label-arrow:hover:before {color: black;}#sk-container-id-3 div.sk-estimator:hover label.sk-toggleable__label-arrow:before {color: black;}#sk-container-id-3 div.sk-toggleable__content {max-height: 0;max-width: 0;overflow: hidden;text-align: left;background-color: #f0f8ff;}#sk-container-id-3 div.sk-toggleable__content pre {margin: 0.2em;color: black;border-radius: 0.25em;background-color: #f0f8ff;}#sk-container-id-3 input.sk-toggleable__control:checked~div.sk-toggleable__content {max-height: 200px;max-width: 100%;overflow: auto;}#sk-container-id-3 input.sk-toggleable__control:checked~label.sk-toggleable__label-arrow:before {content: \"▾\";}#sk-container-id-3 div.sk-estimator input.sk-toggleable__control:checked~label.sk-toggleable__label {background-color: #d4ebff;}#sk-container-id-3 div.sk-label input.sk-toggleable__control:checked~label.sk-toggleable__label {background-color: #d4ebff;}#sk-container-id-3 input.sk-hidden--visually {border: 0;clip: rect(1px 1px 1px 1px);clip: rect(1px, 1px, 1px, 1px);height: 1px;margin: -1px;overflow: hidden;padding: 0;position: absolute;width: 1px;}#sk-container-id-3 div.sk-estimator {font-family: monospace;background-color: #f0f8ff;border: 1px dotted black;border-radius: 0.25em;box-sizing: border-box;margin-bottom: 0.5em;}#sk-container-id-3 div.sk-estimator:hover {background-color: #d4ebff;}#sk-container-id-3 div.sk-parallel-item::after {content: \"\";width: 100%;border-bottom: 1px solid gray;flex-grow: 1;}#sk-container-id-3 div.sk-label:hover label.sk-toggleable__label {background-color: #d4ebff;}#sk-container-id-3 div.sk-serial::before {content: \"\";position: absolute;border-left: 1px solid gray;box-sizing: border-box;top: 0;bottom: 0;left: 50%;z-index: 0;}#sk-container-id-3 div.sk-serial {display: flex;flex-direction: column;align-items: center;background-color: white;padding-right: 0.2em;padding-left: 0.2em;position: relative;}#sk-container-id-3 div.sk-item {position: relative;z-index: 1;}#sk-container-id-3 div.sk-parallel {display: flex;align-items: stretch;justify-content: center;background-color: white;position: relative;}#sk-container-id-3 div.sk-item::before, #sk-container-id-3 div.sk-parallel-item::before {content: \"\";position: absolute;border-left: 1px solid gray;box-sizing: border-box;top: 0;bottom: 0;left: 50%;z-index: -1;}#sk-container-id-3 div.sk-parallel-item {display: flex;flex-direction: column;z-index: 1;position: relative;background-color: white;}#sk-container-id-3 div.sk-parallel-item:first-child::after {align-self: flex-end;width: 50%;}#sk-container-id-3 div.sk-parallel-item:last-child::after {align-self: flex-start;width: 50%;}#sk-container-id-3 div.sk-parallel-item:only-child::after {width: 0;}#sk-container-id-3 div.sk-dashed-wrapped {border: 1px dashed gray;margin: 0 0.4em 0.5em 0.4em;box-sizing: border-box;padding-bottom: 0.4em;background-color: white;}#sk-container-id-3 div.sk-label label {font-family: monospace;font-weight: bold;display: inline-block;line-height: 1.2em;}#sk-container-id-3 div.sk-label-container {text-align: center;}#sk-container-id-3 div.sk-container {/* jupyter's `normalize.less` sets `[hidden] { display: none; }` but bootstrap.min.css set `[hidden] { display: none !important; }` so we also need the `!important` here to be able to override the default hidden behavior on the sphinx rendered scikit-learn.org. See: https://github.com/scikit-learn/scikit-learn/issues/21755 */display: inline-block !important;position: relative;}#sk-container-id-3 div.sk-text-repr-fallback {display: none;}</style><div id=\"sk-container-id-3\" class=\"sk-top-container\"><div class=\"sk-text-repr-fallback\"><pre>RandomForestClassifier(random_state=0)</pre><b>In a Jupyter environment, please rerun this cell to show the HTML representation or trust the notebook. <br />On GitHub, the HTML representation is unable to render, please try loading this page with nbviewer.org.</b></div><div class=\"sk-container\" hidden><div class=\"sk-item\"><div class=\"sk-estimator sk-toggleable\"><input class=\"sk-toggleable__control sk-hidden--visually\" id=\"sk-estimator-id-3\" type=\"checkbox\" checked><label for=\"sk-estimator-id-3\" class=\"sk-toggleable__label sk-toggleable__label-arrow\">RandomForestClassifier</label><div class=\"sk-toggleable__content\"><pre>RandomForestClassifier(random_state=0)</pre></div></div></div></div></div>"
      ],
      "text/plain": [
       "RandomForestClassifier(random_state=0)"
      ]
     },
     "execution_count": 25,
     "metadata": {},
     "output_type": "execute_result"
    }
   ],
   "source": [
    "#의사결정나무 100개 지정, 학습\n",
    "rfc_100 = RandomForestClassifier(n_estimators=100, random_state=0)\n",
    "rfc_100.fit(X_train, y_train)"
   ]
  },
  {
   "cell_type": "code",
   "execution_count": 27,
   "id": "da68bb73",
   "metadata": {},
   "outputs": [
    {
     "data": {
      "text/html": [
       "<style>#sk-container-id-4 {color: black;background-color: white;}#sk-container-id-4 pre{padding: 0;}#sk-container-id-4 div.sk-toggleable {background-color: white;}#sk-container-id-4 label.sk-toggleable__label {cursor: pointer;display: block;width: 100%;margin-bottom: 0;padding: 0.3em;box-sizing: border-box;text-align: center;}#sk-container-id-4 label.sk-toggleable__label-arrow:before {content: \"▸\";float: left;margin-right: 0.25em;color: #696969;}#sk-container-id-4 label.sk-toggleable__label-arrow:hover:before {color: black;}#sk-container-id-4 div.sk-estimator:hover label.sk-toggleable__label-arrow:before {color: black;}#sk-container-id-4 div.sk-toggleable__content {max-height: 0;max-width: 0;overflow: hidden;text-align: left;background-color: #f0f8ff;}#sk-container-id-4 div.sk-toggleable__content pre {margin: 0.2em;color: black;border-radius: 0.25em;background-color: #f0f8ff;}#sk-container-id-4 input.sk-toggleable__control:checked~div.sk-toggleable__content {max-height: 200px;max-width: 100%;overflow: auto;}#sk-container-id-4 input.sk-toggleable__control:checked~label.sk-toggleable__label-arrow:before {content: \"▾\";}#sk-container-id-4 div.sk-estimator input.sk-toggleable__control:checked~label.sk-toggleable__label {background-color: #d4ebff;}#sk-container-id-4 div.sk-label input.sk-toggleable__control:checked~label.sk-toggleable__label {background-color: #d4ebff;}#sk-container-id-4 input.sk-hidden--visually {border: 0;clip: rect(1px 1px 1px 1px);clip: rect(1px, 1px, 1px, 1px);height: 1px;margin: -1px;overflow: hidden;padding: 0;position: absolute;width: 1px;}#sk-container-id-4 div.sk-estimator {font-family: monospace;background-color: #f0f8ff;border: 1px dotted black;border-radius: 0.25em;box-sizing: border-box;margin-bottom: 0.5em;}#sk-container-id-4 div.sk-estimator:hover {background-color: #d4ebff;}#sk-container-id-4 div.sk-parallel-item::after {content: \"\";width: 100%;border-bottom: 1px solid gray;flex-grow: 1;}#sk-container-id-4 div.sk-label:hover label.sk-toggleable__label {background-color: #d4ebff;}#sk-container-id-4 div.sk-serial::before {content: \"\";position: absolute;border-left: 1px solid gray;box-sizing: border-box;top: 0;bottom: 0;left: 50%;z-index: 0;}#sk-container-id-4 div.sk-serial {display: flex;flex-direction: column;align-items: center;background-color: white;padding-right: 0.2em;padding-left: 0.2em;position: relative;}#sk-container-id-4 div.sk-item {position: relative;z-index: 1;}#sk-container-id-4 div.sk-parallel {display: flex;align-items: stretch;justify-content: center;background-color: white;position: relative;}#sk-container-id-4 div.sk-item::before, #sk-container-id-4 div.sk-parallel-item::before {content: \"\";position: absolute;border-left: 1px solid gray;box-sizing: border-box;top: 0;bottom: 0;left: 50%;z-index: -1;}#sk-container-id-4 div.sk-parallel-item {display: flex;flex-direction: column;z-index: 1;position: relative;background-color: white;}#sk-container-id-4 div.sk-parallel-item:first-child::after {align-self: flex-end;width: 50%;}#sk-container-id-4 div.sk-parallel-item:last-child::after {align-self: flex-start;width: 50%;}#sk-container-id-4 div.sk-parallel-item:only-child::after {width: 0;}#sk-container-id-4 div.sk-dashed-wrapped {border: 1px dashed gray;margin: 0 0.4em 0.5em 0.4em;box-sizing: border-box;padding-bottom: 0.4em;background-color: white;}#sk-container-id-4 div.sk-label label {font-family: monospace;font-weight: bold;display: inline-block;line-height: 1.2em;}#sk-container-id-4 div.sk-label-container {text-align: center;}#sk-container-id-4 div.sk-container {/* jupyter's `normalize.less` sets `[hidden] { display: none; }` but bootstrap.min.css set `[hidden] { display: none !important; }` so we also need the `!important` here to be able to override the default hidden behavior on the sphinx rendered scikit-learn.org. See: https://github.com/scikit-learn/scikit-learn/issues/21755 */display: inline-block !important;position: relative;}#sk-container-id-4 div.sk-text-repr-fallback {display: none;}</style><div id=\"sk-container-id-4\" class=\"sk-top-container\"><div class=\"sk-text-repr-fallback\"><pre>RandomForestClassifier(max_features=&#x27;auto&#x27;, random_state=0)</pre><b>In a Jupyter environment, please rerun this cell to show the HTML representation or trust the notebook. <br />On GitHub, the HTML representation is unable to render, please try loading this page with nbviewer.org.</b></div><div class=\"sk-container\" hidden><div class=\"sk-item\"><div class=\"sk-estimator sk-toggleable\"><input class=\"sk-toggleable__control sk-hidden--visually\" id=\"sk-estimator-id-4\" type=\"checkbox\" checked><label for=\"sk-estimator-id-4\" class=\"sk-toggleable__label sk-toggleable__label-arrow\">RandomForestClassifier</label><div class=\"sk-toggleable__content\"><pre>RandomForestClassifier(max_features=&#x27;auto&#x27;, random_state=0)</pre></div></div></div></div></div>"
      ],
      "text/plain": [
       "RandomForestClassifier(max_features='auto', random_state=0)"
      ]
     },
     "execution_count": 27,
     "metadata": {},
     "output_type": "execute_result"
    }
   ],
   "source": [
    "RandomForestClassifier(bootstrap=True, class_weight=None, criterion='gini',\n",
    "                       max_depth=None, max_features='auto', max_leaf_nodes=None,\n",
    "                       min_impurity_decrease=0.0,min_samples_leaf=1, min_samples_split=2,\n",
    "                       min_weight_fraction_leaf=0.0, n_estimators=100,\n",
    "                       n_jobs=None, oob_score=False, random_state=0, verbose=0,\n",
    "                       warm_start=False)"
   ]
  },
  {
   "cell_type": "code",
   "execution_count": 28,
   "id": "b53e90cc",
   "metadata": {},
   "outputs": [],
   "source": [
    "# Predict on the test set results\n",
    "y_pred_100 = rfc_100.predict(X_test)"
   ]
  },
  {
   "cell_type": "code",
   "execution_count": 29,
   "id": "d84f3dcf",
   "metadata": {},
   "outputs": [
    {
     "name": "stdout",
     "output_type": "stream",
     "text": [
      "Model accuracy score with 100 decision-trees : 1.0000\n"
     ]
    }
   ],
   "source": [
    "#accuracy_score 확인\n",
    "print('Model accuracy score with 100 decision-trees : {0:0.4f}'. format(accuracy_score(y_test, y_pred_100)))"
   ]
  },
  {
   "cell_type": "code",
   "execution_count": 30,
   "id": "6004348c",
   "metadata": {},
   "outputs": [
    {
     "name": "stdout",
     "output_type": "stream",
     "text": [
      "              precision    recall  f1-score   support\n",
      "\n",
      "           0       1.00      1.00      1.00       473\n",
      "           1       1.00      1.00      1.00       630\n",
      "\n",
      "    accuracy                           1.00      1103\n",
      "   macro avg       1.00      1.00      1.00      1103\n",
      "weighted avg       1.00      1.00      1.00      1103\n",
      "\n"
     ]
    }
   ],
   "source": [
    "from sklearn.metrics import classification_report\n",
    "print(classification_report(y_test, y_pred_100))"
   ]
  },
  {
   "cell_type": "code",
   "execution_count": 31,
   "id": "0b585efa",
   "metadata": {},
   "outputs": [
    {
     "data": {
      "text/plain": [
       "wl_home          0.941218\n",
       "game_id          0.007372\n",
       "pts_away         0.004968\n",
       "qtr1+2+3_home    0.004899\n",
       "3qtr_ptsgap      0.004826\n",
       "pts_home         0.004752\n",
       "pts_qtr2_away    0.004730\n",
       "pts_qtr3_away    0.004696\n",
       "qtr1+2+3_away    0.004628\n",
       "pts_qtr1_away    0.004563\n",
       "dtype: float64"
      ]
     },
     "execution_count": 31,
     "metadata": {},
     "output_type": "execute_result"
    }
   ],
   "source": [
    "#Feacher Importance 확인\n",
    "clf = RandomForestClassifier(n_estimators=100, random_state=0)\n",
    "clf.fit(X_train, y_train)\n",
    "feature_scores = pd.Series(clf.feature_importances_, index=X_train.columns).sort_values(ascending=False)\n",
    "feature_scores[:10]"
   ]
  },
  {
   "cell_type": "code",
   "execution_count": null,
   "id": "c4ff207d",
   "metadata": {},
   "outputs": [],
   "source": []
  }
 ],
 "metadata": {
  "kernelspec": {
   "display_name": "Python 3 (ipykernel)",
   "language": "python",
   "name": "python3"
  },
  "language_info": {
   "codemirror_mode": {
    "name": "ipython",
    "version": 3
   },
   "file_extension": ".py",
   "mimetype": "text/x-python",
   "name": "python",
   "nbconvert_exporter": "python",
   "pygments_lexer": "ipython3",
   "version": "3.10.9"
  }
 },
 "nbformat": 4,
 "nbformat_minor": 5
}
